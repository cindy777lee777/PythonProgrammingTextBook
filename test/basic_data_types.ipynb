{
  "nbformat": 4,
  "nbformat_minor": 0,
  "metadata": {
    "colab": {
      "name": "basic_data_types.ipynb",
      "version": "0.3.2",
      "provenance": [],
      "toc_visible": true,
      "include_colab_link": true
    },
    "kernelspec": {
      "name": "python3",
      "display_name": "Python 3"
    }
  },
  "cells": [
    {
      "cell_type": "markdown",
      "metadata": {
        "id": "view-in-github",
        "colab_type": "text"
      },
      "source": [
        "<a href=\"https://colab.research.google.com/github/mottaquikarim/PythonProgramming/blob/master/test/basic_data_types.ipynb\" target=\"_parent\"><img src=\"https://colab.research.google.com/assets/colab-badge.svg\" alt=\"Open In Colab\"/></a>"
      ]
    },
    {
      "cell_type": "markdown",
      "metadata": {
        "id": "GA056sE3d3uY",
        "colab_type": "text"
      },
      "source": [
        "# Basic Data Types - test\n",
        "\n",
        "Let's discuss data types, variables, and naming.\n",
        "\n",
        "### Variables\n",
        "\n",
        "A data type is a unit of information that can be stored and retrieved using a program language. We store data into, and retrieve data from, **variables**.\n",
        "\n",
        "### Creating a Variable\n"
      ]
    },
    {
      "cell_type": "code",
      "metadata": {
        "id": "f4twyddPd3uZ",
        "colab_type": "code",
        "colab": {}
      },
      "source": [
        "first_prime = 2"
      ],
      "execution_count": 0,
      "outputs": []
    },
    {
      "cell_type": "markdown",
      "metadata": {
        "id": "mo-NW3Iqd3ub",
        "colab_type": "text"
      },
      "source": [
        "\n",
        "### Reading a Variable\n"
      ]
    },
    {
      "cell_type": "code",
      "metadata": {
        "id": "h6fDk-6Ed3uc",
        "colab_type": "code",
        "colab": {
          "base_uri": "https://localhost:8080/",
          "height": 34
        },
        "outputId": "c36899ce-f93d-4e8e-ad48-13e0f6ea25a3"
      },
      "source": [
        "\n",
        "print(first_prime) # expect to see 2\n"
      ],
      "execution_count": 3,
      "outputs": [
        {
          "output_type": "stream",
          "text": [
            "2\n"
          ],
          "name": "stdout"
        }
      ]
    },
    {
      "cell_type": "markdown",
      "metadata": {
        "id": "IQuRBnWad3ue",
        "colab_type": "text"
      },
      "source": [
        "\n",
        "### Naming Variables\n",
        "\n",
        "In python, the best practice is to **snake_case** variables, where we delimit spaces within variable names with the `_` character.\n"
      ]
    },
    {
      "cell_type": "code",
      "metadata": {
        "id": "dTbHdIpid3uf",
        "colab_type": "code",
        "colab": {}
      },
      "source": [
        "this_is_snake_cased = 1"
      ],
      "execution_count": 0,
      "outputs": []
    },
    {
      "cell_type": "markdown",
      "metadata": {
        "id": "MkpJs9tId3uh",
        "colab_type": "text"
      },
      "source": [
        "\n",
        "## Integers\n"
      ]
    },
    {
      "cell_type": "code",
      "metadata": {
        "id": "3DC5sV1Yd3ui",
        "colab_type": "code",
        "colab": {}
      },
      "source": [
        "\n",
        "example_int = 1\n",
        "example_int_type = type(1) # <class 'int'>\n"
      ],
      "execution_count": 0,
      "outputs": []
    },
    {
      "cell_type": "markdown",
      "metadata": {
        "id": "nxQudIPid3uk",
        "colab_type": "text"
      },
      "source": [
        "\n",
        "## Floats\n",
        "\n",
        "Floats are defined as decimals\n"
      ]
    },
    {
      "cell_type": "code",
      "metadata": {
        "id": "ivO0qrSDd3ul",
        "colab_type": "code",
        "colab": {}
      },
      "source": [
        "example_float = 1.001\n",
        "example_float_type = type(1.001) # <class 'float'>"
      ],
      "execution_count": 0,
      "outputs": []
    },
    {
      "cell_type": "markdown",
      "metadata": {
        "id": "bW6kesoVd3un",
        "colab_type": "text"
      },
      "source": [
        "\n",
        "## Int/Float Operators\n",
        "\n",
        "We can operate on integers/floats in the following ways\n"
      ]
    },
    {
      "cell_type": "code",
      "metadata": {
        "id": "jdiaKhbFd3uo",
        "colab_type": "code",
        "colab": {}
      },
      "source": [
        "example_int = 1\n",
        "\n",
        "another_int = example_int + 5 # addition\n",
        "another_int = example_int * 5 # multiplication\n",
        "another_int = example_int - 5 # subtraction\n",
        "another_int = example_int / 5 # division\n",
        "another_int = example_int % 5 # modulus operator"
      ],
      "execution_count": 0,
      "outputs": []
    },
    {
      "cell_type": "markdown",
      "metadata": {
        "id": "S7go-y-Sd3ur",
        "colab_type": "text"
      },
      "source": [
        "\n",
        "## Strings\n",
        "\n",
        "Sequences of characters are called \"strings\"\n"
      ]
    },
    {
      "cell_type": "code",
      "metadata": {
        "id": "1QwDxaKVd3ur",
        "colab_type": "code",
        "colab": {}
      },
      "source": [
        "my_name = 'Taq Karim'\n",
        "your_name = \"John Smith\" # single or double quotes are valid\n",
        "\n",
        "string_type = type(\"testing\") # <class 'str'>"
      ],
      "execution_count": 0,
      "outputs": []
    },
    {
      "cell_type": "markdown",
      "metadata": {
        "id": "H2381AY_d3ut",
        "colab_type": "text"
      },
      "source": [
        "You can also store several separate snippets of text within a single string. Let's say you're storing song lyrics, so you want to have a line break between each line of the song. To do this, you can use triple quotes i.e. `'''` or `\"\"\"`. You can use single and double quotes within the string freely, so no need to worry about that detail!\n"
      ]
    },
    {
      "cell_type": "code",
      "metadata": {
        "id": "PApyWcTud3uu",
        "colab_type": "code",
        "colab": {}
      },
      "source": [
        "'''\n",
        "'Cause if you liked it, then you should have put a ring on it\n",
        "If you liked it, then you should have put a ring on it\n",
        "Don't be mad once you see that he want it\n",
        "If you liked it, then you should have put a ring on it\n",
        "'''"
      ],
      "execution_count": 0,
      "outputs": []
    },
    {
      "cell_type": "markdown",
      "metadata": {
        "id": "YNvGokYDd3ux",
        "colab_type": "text"
      },
      "source": [
        "\n",
        "## String operators\n",
        "\n",
        "We can \"add\" strings\n"
      ]
    },
    {
      "cell_type": "code",
      "metadata": {
        "id": "XXCoziS8d3uz",
        "colab_type": "code",
        "colab": {}
      },
      "source": [
        "print(\"this string\" + \"that string\") # what does this output?"
      ],
      "execution_count": 0,
      "outputs": []
    },
    {
      "cell_type": "markdown",
      "metadata": {
        "id": "k9uqE5FMd3u1",
        "colab_type": "text"
      },
      "source": [
        "\n",
        "We cannot add strings to non strings\n"
      ]
    },
    {
      "cell_type": "code",
      "metadata": {
        "id": "XOgCvj35d3u2",
        "colab_type": "code",
        "colab": {}
      },
      "source": [
        "print(\"this will not work\" + 4) # 4 is not stype str"
      ],
      "execution_count": 0,
      "outputs": []
    },
    {
      "cell_type": "markdown",
      "metadata": {
        "id": "iLgBylY8d3u6",
        "colab_type": "text"
      },
      "source": [
        "\n",
        "As a convenience, we can format strings like so:\n"
      ]
    },
    {
      "cell_type": "code",
      "metadata": {
        "id": "jB2aDMMrd3u7",
        "colab_type": "code",
        "colab": {}
      },
      "source": [
        "a = 1\n",
        "b = 2\n",
        "\n",
        "formatted_string = f\"{a} is {b}\" # notice how a, b are formatted into string even tho they are ints\n",
        "\n",
        "print(formatted_string) # \"1 is 2\""
      ],
      "execution_count": 0,
      "outputs": []
    },
    {
      "cell_type": "markdown",
      "metadata": {
        "id": "gkAFwa6Zd3u9",
        "colab_type": "text"
      },
      "source": [
        "\n",
        "\n",
        "## Booleans\n",
        "\n",
        "Booleans represent true/false\n"
      ]
    },
    {
      "cell_type": "code",
      "metadata": {
        "id": "51gGdY9Id3u9",
        "colab_type": "code",
        "colab": {}
      },
      "source": [
        "\n",
        "is_it_winter = True\n",
        "is_it_warm_out = False\n",
        "\n",
        "boolean_type = type(True) # <class 'bool'>\n"
      ],
      "execution_count": 0,
      "outputs": []
    },
    {
      "cell_type": "markdown",
      "metadata": {
        "id": "7twWPoMHd3u_",
        "colab_type": "text"
      },
      "source": [
        "\n",
        "We use booleans primarily in conditional statements\n",
        "\n",
        "## Nonetype\n",
        "\n",
        "`None` represents variables that have not yet been defined.\n"
      ]
    },
    {
      "cell_type": "code",
      "metadata": {
        "id": "Vmj5ttD5d3u_",
        "colab_type": "code",
        "colab": {}
      },
      "source": [
        "print(type(None)) # <class 'NoneType'>"
      ],
      "execution_count": 0,
      "outputs": []
    },
    {
      "cell_type": "markdown",
      "metadata": {
        "id": "LBiWaUj8d3vC",
        "colab_type": "text"
      },
      "source": [
        "\n",
        "## Typecasting\n",
        "\n",
        "Sometimes, we need to convert one datatype to another. Typecasting allows us to convert between types\n"
      ]
    },
    {
      "cell_type": "code",
      "metadata": {
        "id": "xHMZQAW2d3vD",
        "colab_type": "code",
        "colab": {}
      },
      "source": [
        "\n",
        "# convert string to int\n",
        "int('10') # 10 - but as type int\n",
        "int('tasdfa') # throws a ValueError\n"
      ],
      "execution_count": 0,
      "outputs": []
    },
    {
      "cell_type": "markdown",
      "metadata": {
        "id": "VMmUJWdgd3vE",
        "colab_type": "text"
      },
      "source": [
        ""
      ]
    },
    {
      "cell_type": "code",
      "metadata": {
        "id": "Hi2s37Osd3vG",
        "colab_type": "code",
        "colab": {}
      },
      "source": [
        "\n",
        "# convert int to str\n",
        "str(10) # '10' - but as type str\n"
      ],
      "execution_count": 0,
      "outputs": []
    },
    {
      "cell_type": "markdown",
      "metadata": {
        "id": "77I9r_9od3vI",
        "colab_type": "text"
      },
      "source": [
        ""
      ]
    },
    {
      "cell_type": "code",
      "metadata": {
        "id": "6ewzfDROd3vI",
        "colab_type": "code",
        "colab": {}
      },
      "source": [
        "\n",
        "# convert int to bool\n",
        "bool(10) # True\n",
        "bool(0) # False"
      ],
      "execution_count": 0,
      "outputs": []
    },
    {
      "cell_type": "markdown",
      "metadata": {
        "id": "e5M6iEhZd3vL",
        "colab_type": "text"
      },
      "source": [
        "\n",
        "To check the type of a data type:\n"
      ]
    },
    {
      "cell_type": "code",
      "metadata": {
        "id": "kqhGLEfJd3vM",
        "colab_type": "code",
        "colab": {}
      },
      "source": [
        "\n",
        "# check types\n",
        "isinstance(-1, bool) # False\n",
        "isinstance(False, bool) # True\n",
        "\n",
        "# ..etc\n"
      ],
      "execution_count": 0,
      "outputs": []
    }
  ]
}