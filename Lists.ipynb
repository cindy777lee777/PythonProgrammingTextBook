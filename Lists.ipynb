{
  "nbformat": 4,
  "nbformat_minor": 0,
  "metadata": {
    "colab": {
      "name": "Lists.ipynb",
      "version": "0.3.2",
      "provenance": [],
      "include_colab_link": true
    },
    "kernelspec": {
      "name": "python3",
      "display_name": "Python 3"
    }
  },
  "cells": [
    {
      "cell_type": "markdown",
      "metadata": {
        "id": "view-in-github",
        "colab_type": "text"
      },
      "source": [
        "<a href=\"https://colab.research.google.com/github/mottaquikarim/PythonProgramming/blob/master/Lists.ipynb\" target=\"_parent\"><img src=\"https://colab.research.google.com/assets/colab-badge.svg\" alt=\"Open In Colab\"/></a>"
      ]
    },
    {
      "cell_type": "markdown",
      "metadata": {
        "id": "bHNDl92AnGPK",
        "colab_type": "text"
      },
      "source": [
        "# Lists\n",
        "\n",
        "In order to begin to truly write dynamic programs, we need to be able to work with *dynamic* data where we do not know how much of a certain type of variable we have.\n",
        "\n",
        "The problem, essentially is, **variables hold only one item**.\n"
      ]
    },
    {
      "cell_type": "code",
      "metadata": {
        "id": "uHRvfDDanNxm",
        "colab_type": "code",
        "colab": {}
      },
      "source": [
        "my_color = \"red\"\n",
        "my_peer = \"Brandi\""
      ],
      "execution_count": 0,
      "outputs": []
    },
    {
      "cell_type": "markdown",
      "metadata": {
        "id": "Ip8QyZGZnQRa",
        "colab_type": "text"
      },
      "source": [
        "Lists hold multiple items - and lists can hold any datatype.\n",
        "\n",
        "## Creating lists\n",
        "\n",
        "Here are some different ways to declare a list variable:"
      ]
    },
    {
      "cell_type": "code",
      "metadata": {
        "id": "vy7NdtisnTSi",
        "colab_type": "code",
        "colab": {}
      },
      "source": [
        "colors = ['red', 'yellow', 'green'] #strings\n",
        "grades = [100, 99, 65, 54, 19] #numbers\n",
        "bools = [True, False, True, True] #booleans"
      ],
      "execution_count": 0,
      "outputs": []
    },
    {
      "cell_type": "markdown",
      "metadata": {
        "id": "87N8Jd0bnb6R",
        "colab_type": "text"
      },
      "source": [
        "To create a new **blank** list, simply use \n"
      ]
    },
    {
      "cell_type": "code",
      "metadata": {
        "id": "6FeV9NFxnft7",
        "colab_type": "code",
        "colab": {}
      },
      "source": [
        "python blank_list = list()"
      ],
      "execution_count": 0,
      "outputs": []
    },
    {
      "cell_type": "markdown",
      "metadata": {
        "id": "PV2quXylngOf",
        "colab_type": "text"
      },
      "source": [
        "## Accessing Elements in the List\n",
        "\n",
        "The **list index** means the location of something (an *element*) in the list.\n",
        "\n",
        "List indexes start counting at 0!\n",
        "\n",
        "|  List | \"Brandi\" | \"Zoe\" | \"Steve\" | \"Aleksander\" | \"Dasha\" |\n",
        "|:-----:|:--------:|:-----:|:-------:|:------:|:------:|\n",
        "| Index |     0    |   1   |    2    |    3   |    4   |"
      ]
    },
    {
      "cell_type": "code",
      "metadata": {
        "id": "rN0BPeN7nkx1",
        "colab_type": "code",
        "colab": {
          "base_uri": "https://localhost:8080/",
          "height": 68
        },
        "outputId": "b0c3d05e-6db5-4e18-ce3f-a870efb80e71"
      },
      "source": [
        "my_class = ['Brandi', 'Zoe', 'Steve', 'Aleksander', 'Dasha']\n",
        "print(my_class[0]) # Prints \"Brandi\"\n",
        "print(my_class[1]) # Prints \"Zoe\"\n",
        "print(my_class[4]) # Prints \"Dasha\""
      ],
      "execution_count": 5,
      "outputs": [
        {
          "output_type": "stream",
          "text": [
            "Brandi\n",
            "Zoe\n",
            "Dasha\n"
          ],
          "name": "stdout"
        }
      ]
    },
    {
      "cell_type": "markdown",
      "metadata": {
        "id": "kaz1EjIfnlc0",
        "colab_type": "text"
      },
      "source": [
        "## Built-In Operations for Manipulating Lists\n",
        "\n",
        "#### Add or Edit Items to a List\n",
        "If you want to extend the content of a single list, you can use `.append()`, `.extend()` `.insert()` to add elements of any data type.\n",
        "\n",
        "**`.append()` & `.extend()`:**\n",
        "\n",
        "These methods both add items to the end of the list. The difference here is that `.append()` will add whatever value or group of values you pass it *in one chunk*. In contrast, if you pass a group of values into `.extend()`, it will add each element of the group *individually*. Here are a few examples to show you the difference in outcomes.\n"
      ]
    },
    {
      "cell_type": "code",
      "metadata": {
        "id": "-floJt7onsxc",
        "colab_type": "code",
        "colab": {
          "base_uri": "https://localhost:8080/",
          "height": 85
        },
        "outputId": "694dacad-23d7-4469-b13a-3e37010368f0"
      },
      "source": [
        "# passing direct argument\n",
        "x = ['a', 'b', 'c', 'd']\n",
        "x.append(['e', 'f', 'g'])\n",
        "print(x) # ['a', 'b', 'c', 'd', ['e', 'f', 'g']]\n",
        "\n",
        "x = ['a', 'b', 'c', 'd']\n",
        "x.extend(['e', 'f', 'g'])\n",
        "print(x) # ['a', 'b', 'c', 'd', 'e', 'f', 'g']\n",
        "\n",
        "# passing argument within a var\n",
        "x = ['a', 'b', 'c', 'd']\n",
        "y = ['e', ('f', 'g'), ['h', 'i'], 'j']\n",
        "x.append(y)\n",
        "print(y) # ['a', 'b', 'c', 'd', ['e', ('f', 'g'), ['h', 'i'], 'j']]\n",
        "\n",
        "x = ['a', 'b', 'c', 'd']\n",
        "y = ['e', ('f', 'g'), ['h', 'i'], 'j']\n",
        "x.extend(y)\n",
        "print(x) # ['a', 'b', 'c', 'd', 'e', ('f', 'g'), ['h', 'i'], 'j']"
      ],
      "execution_count": 4,
      "outputs": [
        {
          "output_type": "stream",
          "text": [
            "['a', 'b', 'c', 'd', ['e', 'f', 'g']]\n",
            "['a', 'b', 'c', 'd', 'e', 'f', 'g']\n",
            "['e', ('f', 'g'), ['h', 'i'], 'j']\n",
            "['a', 'b', 'c', 'd', 'e', ('f', 'g'), ['h', 'i'], 'j']\n"
          ],
          "name": "stdout"
        }
      ]
    },
    {
      "cell_type": "markdown",
      "metadata": {
        "id": "Tn9TwbunnyP8",
        "colab_type": "text"
      },
      "source": [
        "Notice that `.extend()` only considers individual values of the parent list. It still added the tuple and list - `('f', 'g')` and `['h', 'i']` - to our list `x` as their own items.\n",
        "\n",
        "**`.insert(index, value)`:**\n",
        "\n",
        "If you want to add an item to a specific point in your list, you can pass the desired index and value into `.insert()` as follows.\n"
      ]
    },
    {
      "cell_type": "code",
      "metadata": {
        "id": "tapqq-3qn12k",
        "colab_type": "code",
        "colab": {}
      },
      "source": [
        "# your_list.insert(index, item)\n",
        "\n",
        "my_class = ['Brandi', 'Zoe', 'Steve', 'Aleksander', 'Dasha', 'Sonyl']\n",
        "my_class.insert(1, 'Sanju')\n",
        "print(my_class)\n",
        "# => ['Brandi', 'Sanju', 'Zoe', 'Steve', 'Aleksander', 'Dasha', 'Sonyl']"
      ],
      "execution_count": 0,
      "outputs": []
    },
    {
      "cell_type": "markdown",
      "metadata": {
        "id": "JZkLXpt0n7yR",
        "colab_type": "text"
      },
      "source": [
        "**`l[index:index]=`:**\n",
        "\n",
        "To *replace* items in a list by their index position, you can use the same syntax for adding a single new value. You simply reference which indeces you want to replace and specify the new values."
      ]
    },
    {
      "cell_type": "code",
      "metadata": {
        "id": "HeadVKXcn_i4",
        "colab_type": "code",
        "colab": {}
      },
      "source": [
        "x = ['Brandi', 'Sanju', 'Zoe', 'Steve', 'Aleksander', 'Dasha', 'Sonyl']\n",
        "x[1] = 'Raju'\n",
        "x[6:] = ['Chloe', 'Phoebe']\n",
        "print(x) # ['Brandi', 'Raju', 'Zoe', 'Steve', 'Aleksander', 'Dasha', 'Chloe', 'Phoebe']"
      ],
      "execution_count": 0,
      "outputs": []
    },
    {
      "cell_type": "markdown",
      "metadata": {
        "id": "Wrhf2j0IoCYj",
        "colab_type": "text"
      },
      "source": [
        "**`.join()`:**\n",
        "\n",
        "If you need to, you can compile your list items into a single string.\n"
      ]
    },
    {
      "cell_type": "code",
      "metadata": {
        "id": "ehbWXef4oFYg",
        "colab_type": "code",
        "colab": {}
      },
      "source": [
        "letters = ['j', 'u', 'l', 'i', 'a', 'n', 'n', 'a']\n",
        "name = ''.join(letters)\n",
        "print(name) # 'julianna'\n",
        "\n",
        "words = ['this', 'is', 'fun']\n",
        "sentence = ' '.join(words)\n",
        "print(f'{sentence}.') # 'this is fun.'"
      ],
      "execution_count": 0,
      "outputs": []
    },
    {
      "cell_type": "markdown",
      "metadata": {
        "id": "DLj3CXVLoTSy",
        "colab_type": "text"
      },
      "source": [
        "**`.split('by_char')`:**\n",
        "\n",
        "You can also do the opposite - split values out of a string and turn each value into a list item. This one doesn't work for single words you might want to split into individual characters. That said, you *can* specify what character should convey to the method when to split out a new item. By default, `.split()` will use a space character to split the string.\n"
      ]
    },
    {
      "cell_type": "code",
      "metadata": {
        "id": "L39PsyG4oY6o",
        "colab_type": "code",
        "colab": {}
      },
      "source": [
        "x = 'this is fun'\n",
        "sentence = x.split() # note - using default split char at space\n",
        "print(sentence) # ['this', 'is', 'fun']\n",
        "\n",
        "y = 'Sandra,hi@email.com,646-212-1234,8 Cherry Lane,Splitsville,FL,58028'\n",
        "data = y.split(',')\n",
        "print(data) # ['Sandra', 'hi@email.com', '646-212-1234', '8 Cherry Lane', 'Splitsville', 'FL', '58028']"
      ],
      "execution_count": 0,
      "outputs": []
    },
    {
      "cell_type": "markdown",
      "metadata": {
        "id": "MLoMlii8oZep",
        "colab_type": "text"
      },
      "source": [
        "#### Remove Items from a List\n",
        "Likewise, you can use `.pop()` or `.pop(index)` to remove any type of element from a list.\n",
        "\n",
        "**`.pop()`:**\n",
        "- Removes an item from the end of the list.\n"
      ]
    },
    {
      "cell_type": "code",
      "metadata": {
        "id": "e6jYqJblozAT",
        "colab_type": "code",
        "colab": {}
      },
      "source": [
        "# your_list.pop()\n",
        "\n",
        "my_class = ['Brandi', 'Zoe', 'Steve', 'Aleksander', 'Dasha', 'Sonyl']\n",
        "student_that_left = my_class.pop()\n",
        "print(\"The student\", student_that_left, \"has left the class.\")\n",
        "# Sonyl\n",
        "print(my_class)\n",
        "# => ['Brandi', 'Zoe', 'Steve', 'Aleksander', 'Dasha']"
      ],
      "execution_count": 0,
      "outputs": []
    },
    {
      "cell_type": "markdown",
      "metadata": {
        "id": "rG-Rlfhno1AD",
        "colab_type": "text"
      },
      "source": [
        "**`.pop(index)`:**\n",
        "\n",
        "- Removes an item from the list.\n",
        "- Can take an index.\n"
      ]
    },
    {
      "cell_type": "code",
      "metadata": {
        "id": "9xagSBO-o2Vy",
        "colab_type": "code",
        "colab": {}
      },
      "source": [
        "# your_list.pop(index)\n",
        "\n",
        "my_class = ['Brandi', 'Zoe', 'Steve', 'Aleksander', 'Dasha']\n",
        "student_that_left = my_class.pop(2) # Remember to count from 0!\n",
        "print(\"The student\", student_that_left, \"has left the class.\")\n",
        "# => \"Steve\"\n",
        "print(my_class)\n",
        "# => ['Brandi', 'Zoe', 'Aleksander', 'Dasha']"
      ],
      "execution_count": 0,
      "outputs": []
    },
    {
      "cell_type": "markdown",
      "metadata": {
        "id": "CRZ3DTmLo6qs",
        "colab_type": "text"
      },
      "source": [
        "## Built-in Operators for Analyzing Lists\n",
        "\n",
        "Python has some built-in operations that allow you to analyze the content of a list. Some basic ones include:\n",
        "\n",
        "**`len()`:**\n",
        "\n",
        "This tells you how many items are in the list; can be used for lists composed of any data type (i.e. strings, numbers, booleans)\n"
      ]
    },
    {
      "cell_type": "code",
      "metadata": {
        "id": "yD4nVcFwo998",
        "colab_type": "code",
        "colab": {}
      },
      "source": [
        "# length_variable = len(your_list)\n",
        "\n",
        "my_class = ['Brandi', 'Zoe', 'Aleksander', 'Dasha']\n",
        "num_students = len(my_class)\n",
        "print(\"There are\", num_students, \"students in the class\")\n",
        "# => 5"
      ],
      "execution_count": 0,
      "outputs": []
    },
    {
      "cell_type": "markdown",
      "metadata": {
        "id": "jNY3kwnCo-gd",
        "colab_type": "text"
      },
      "source": [
        "**`sum()`:**\n",
        "\n",
        "This returns the sum of all items in *numerical lists*.\n"
      ]
    },
    {
      "cell_type": "code",
      "metadata": {
        "id": "NdfiBzOupAyL",
        "colab_type": "code",
        "colab": {}
      },
      "source": [
        "\n",
        "# sum_variable = sum(your_numeric_list)\n",
        "\n",
        "team_batting_avgs = [.328, .299, .208, .301, .275, .226, .253, .232, .287]\n",
        "sum_avgs = sum(team_batting_avgs)\n",
        "print(f\"The total of all the batting averages is {sum_avgs}\")\n",
        "# => 2.409"
      ],
      "execution_count": 0,
      "outputs": []
    },
    {
      "cell_type": "markdown",
      "metadata": {
        "id": "HwID-PmYpDsk",
        "colab_type": "text"
      },
      "source": [
        "\n",
        "**min and max:**\n",
        "\n",
        "These return the smallest and largest numbers *in a numerical list* respectively.\n"
      ]
    },
    {
      "cell_type": "code",
      "metadata": {
        "id": "-J9AhDUipGVc",
        "colab_type": "code",
        "colab": {}
      },
      "source": [
        "# max(your_numeric_list)\n",
        "# min(your_numeric_list)\n",
        "\n",
        "team_batting_avgs = [.328, .299, .208, .301, .275, .226, .253, .232, .287]\n",
        "print(f\"The highest batting average is {max(team_batting_avgs}\")\n",
        "# => 0.328\n",
        "print(\"The lowest batting average is\", min(team_batting_avgs))\n",
        "# => 0.208"
      ],
      "execution_count": 0,
      "outputs": []
    },
    {
      "cell_type": "markdown",
      "metadata": {
        "id": "c_qt1FhxpU-I",
        "colab_type": "text"
      },
      "source": [
        "\n",
        "#### Sorting Lists\n",
        "\n",
        "If you want to organize your lists better, you can sort them with the `sorted()` operator. At the some basic level, you can sort both numerically and alphabetically.\n",
        "\n",
        "**Numbers** - Ascending & Descending\n"
      ]
    },
    {
      "cell_type": "code",
      "metadata": {
        "id": "NCIazIQtpaBe",
        "colab_type": "code",
        "colab": {
          "base_uri": "https://localhost:8080/",
          "height": 34
        },
        "outputId": "877653fd-e883-4dec-d283-37f53294909b"
      },
      "source": [
        "numbers = [1, 3, 7, 5, 6, 4, 2]\n",
        "\n",
        "ascending = sorted(numbers)\n",
        "print(ascending) # [1, 2, 3, 4, 5, 6, 7]"
      ],
      "execution_count": 7,
      "outputs": [
        {
          "output_type": "stream",
          "text": [
            "[1, 2, 3, 4, 5, 6, 7]\n"
          ],
          "name": "stdout"
        }
      ]
    },
    {
      "cell_type": "markdown",
      "metadata": {
        "id": "6DgiI9GVpa26",
        "colab_type": "text"
      },
      "source": [
        "To do this in descending order, simply add `reverse=True` as an argument in `sorted()` like this:\n"
      ]
    },
    {
      "cell_type": "code",
      "metadata": {
        "id": "CkZwf8H1pdSh",
        "colab_type": "code",
        "colab": {
          "base_uri": "https://localhost:8080/",
          "height": 34
        },
        "outputId": "f3e3ad3e-eded-45ff-ed0a-a4d3042bb3ea"
      },
      "source": [
        "descending = sorted(numbers, reverse=True)\n",
        "print(descending) # [7, 6, 5, 4, 3, 2, 1]"
      ],
      "execution_count": 8,
      "outputs": [
        {
          "output_type": "stream",
          "text": [
            "[7, 6, 5, 4, 3, 2, 1]\n"
          ],
          "name": "stdout"
        }
      ]
    },
    {
      "cell_type": "markdown",
      "metadata": {
        "id": "en3vUGchpe4T",
        "colab_type": "text"
      },
      "source": [
        "**Letters** - Alphabetically & Reverse\n"
      ]
    },
    {
      "cell_type": "code",
      "metadata": {
        "id": "lgTRfrFUplg5",
        "colab_type": "code",
        "colab": {}
      },
      "source": [
        "letters = ['b', 'e', 'c', 'a', 'd']\n",
        "\n",
        "ascending = sorted(letters)\n",
        "print(ascending) # ['a', 'b', 'c', 'd', 'e']\n",
        "\n",
        "descending = sorted(letters, reverse=True)\n",
        "print(descending) # ['e', 'd', 'c', 'b', 'a']"
      ],
      "execution_count": 0,
      "outputs": []
    },
    {
      "cell_type": "markdown",
      "metadata": {
        "id": "ii9ipOwdpn0h",
        "colab_type": "text"
      },
      "source": [
        "**NOTE!** You cannot sort a list that includes different data types. \n",
        "\n",
        "## Tuples\n",
        "\n",
        "Tuples are a special subset of lists - they are *immutable* - in that they cannot be changed after creation.\n",
        "\n",
        "We write tuples as:\n"
      ]
    },
    {
      "cell_type": "code",
      "metadata": {
        "id": "CIxAVxe-ptCF",
        "colab_type": "code",
        "colab": {}
      },
      "source": [
        "score_1 = ('Taq', 100)\n",
        "\n",
        "# OR\n",
        "\n",
        "score_2 = 'Sue', 101"
      ],
      "execution_count": 0,
      "outputs": []
    },
    {
      "cell_type": "markdown",
      "metadata": {
        "id": "xdzbL7dtpxM3",
        "colab_type": "text"
      },
      "source": [
        "Tuples are denoted with the `()`.\n",
        "\n",
        "We read tuples just like we would read a list:\n"
      ]
    },
    {
      "cell_type": "code",
      "metadata": {
        "id": "B2i9VPq2pxtk",
        "colab_type": "code",
        "colab": {}
      },
      "source": [
        "print(score_1[0]) # 'Taq'"
      ],
      "execution_count": 0,
      "outputs": []
    },
    {
      "cell_type": "markdown",
      "metadata": {
        "id": "sLRdaoM4pznl",
        "colab_type": "text"
      },
      "source": [
        "## Sets\n",
        "\n",
        "Sets are special lists in that they can only have **unique** elements\n"
      ]
    },
    {
      "cell_type": "code",
      "metadata": {
        "id": "waQfU1Wqp2WY",
        "colab_type": "code",
        "colab": {}
      },
      "source": [
        "set_1 = {1,2,3,4,5} # this is a set, notice the {}\n",
        "set_2 = {1,1,1,2,2,3,4,5,5,5} # this is still a set\n",
        "print(set_2) # {1,2,3,4,5}\n",
        "\n",
        "print(set_1 == set_2) # True"
      ],
      "execution_count": 0,
      "outputs": []
    },
    {
      "cell_type": "markdown",
      "metadata": {
        "id": "DV5YhzM0p4Wx",
        "colab_type": "text"
      },
      "source": [
        "Sets are not indexed, so you cannot access say the 3rd element in a set. Instead, you can:\n"
      ]
    },
    {
      "cell_type": "code",
      "metadata": {
        "id": "t593VL22p6rw",
        "colab_type": "code",
        "colab": {}
      },
      "source": [
        "print(2 in set_1) # True\n",
        "print(9 in set_1) # False"
      ],
      "execution_count": 0,
      "outputs": []
    },
    {
      "cell_type": "markdown",
      "metadata": {
        "id": "-Pgv2HDAp87R",
        "colab_type": "text"
      },
      "source": [
        "Here's a **[helpful list](https://snakify.org/en/lessons/sets/#section_4)** of set operations.\n",
        "\n",
        "\n",
        "## 🚗 1. Simple List operations\n",
        "\n",
        "1. Create a **list** with the names `\"Holly\"`, `\"Juan\"`, and `\"Ming\"`.\n",
        "2. Print the third name.\n",
        "3. Create a **list** with the numbers `2`,`4`, `6`, and `8`.\n",
        "4. Print the first number.\n",
        "\n",
        "## 🚗 2. Editing & Manipulating Lists\n",
        "\n",
        "1. Declare a list with the names of your classmates\n",
        "2. Print out the length of that list\n",
        "3. Print the 3rd name on the list\n",
        "4. Delete the first name on the list\n",
        "5. Re-add the name you deleted to the end of the list\n",
        "6. You work for Spotify and are creating a feature for users to alphabetize their playlists by song title. Below are is a list of titles from one user's playlist. Alphabetize these songs.\n",
        "`playlist_titles = [\"Rollin' Stone\", \"At Last\", \"Tiny Dancer\", \"Hey Jude\", \"Movin' Out\"]`\n",
        "7. Create a list with 6 numbers and sort it in descending order.\n",
        "\n",
        "## 🚗 3. Math Operations\n",
        "\n",
        "On your local computer, create a `.py` file named `list_practice.py`. In it:\n",
        "\n",
        "1. Save a list with the numbers `2`, `4`, `6`, and `8` into a variable called `numbers`.\n",
        "2. Print the max of `numbers`.\n",
        "3. Pop the last element in `numbers` off; re-insert it at index `2`.\n",
        "4. Pop the second number in `numbers` off.\n",
        "5. Append `3` to `numbers`.\n",
        "6. Print out the average number.\n",
        "7. Print `numbers`.\n",
        "\n",
        "\n",
        "\n",
        "## Additional Resources\n",
        "\n",
        "- [Python Lists - Khan Academy Video](https://www.youtube.com/watch?v=zEyEC34MY1A)\n",
        "- [Google For Education: Python Lists](https://developers.google.com/edu/python/lists)\n",
        "- [Python-Lists](https://www.tutorialspoint.com/python/python_lists.htm)\n",
        "- [Python List Methods](https://www.programiz.com/python-programming/methods/list/)\n",
        "- [Python Data Structures: Lists, Tuples, Sets, and Dictionaries Video](https://www.youtube.com/watch?v=R-HLU9Fl5ug)"
      ]
    }
  ]
}